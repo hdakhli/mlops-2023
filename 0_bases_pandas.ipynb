{
 "cells": [
  {
   "cell_type": "markdown",
   "source": [
    "<a href=\"https://colab.research.google.com/github/hdakhli/mlops-2023/blob/main/0_bases_pandas.ipynb\" target=\"_parent\"><img src=\"https://colab.research.google.com/assets/colab-badge.svg\" alt=\"Open In Colab\"/></a>"
   ],
   "metadata": {
    "collapsed": false
   },
   "id": "ea5f0b83c0d9e5a5"
  },
  {
   "cell_type": "markdown",
   "source": [
    "# Les bases pandas :\n",
    "## [Documentation officielle](https://pandas.pydata.org/docs/reference/index.html)"
   ],
   "metadata": {
    "collapsed": false
   },
   "id": "a3c27ea2a4343d02"
  },
  {
   "cell_type": "code",
   "execution_count": null,
   "id": "initial_id",
   "metadata": {
    "collapsed": true
   },
   "outputs": [],
   "source": [
    "!pip install pandas\n",
    "!pip install xlrd"
   ]
  },
  {
   "cell_type": "code",
   "execution_count": 26,
   "outputs": [],
   "source": [
    "import pandas as pd"
   ],
   "metadata": {
    "collapsed": false,
    "ExecuteTime": {
     "end_time": "2023-09-27T14:00:52.610051Z",
     "start_time": "2023-09-27T14:00:52.594172Z"
    }
   },
   "id": "63ab15e9df52d51c"
  },
  {
   "cell_type": "markdown",
   "source": [
    "### 1. Les opérations de base avec les Dataframe"
   ],
   "metadata": {
    "collapsed": false
   },
   "id": "c24051903f6f6991"
  },
  {
   "cell_type": "code",
   "execution_count": 29,
   "outputs": [],
   "source": [
    "# Charger les données titanic.xls dans un Dataframe"
   ],
   "metadata": {
    "collapsed": false,
    "ExecuteTime": {
     "end_time": "2023-09-27T14:05:37.911488Z",
     "start_time": "2023-09-27T14:05:37.907569Z"
    }
   },
   "id": "616c50866b774ef9"
  },
  {
   "cell_type": "code",
   "execution_count": 9,
   "outputs": [],
   "source": [
    "# Afficher les dimensions du Dataframe"
   ],
   "metadata": {
    "collapsed": false,
    "ExecuteTime": {
     "end_time": "2023-09-27T13:28:05.245209Z",
     "start_time": "2023-09-27T13:28:05.234409Z"
    }
   },
   "id": "df56b9bdbcd7d2d6"
  },
  {
   "cell_type": "code",
   "execution_count": 10,
   "outputs": [],
   "source": [
    "# Afficher le nombre de colonnes"
   ],
   "metadata": {
    "collapsed": false,
    "ExecuteTime": {
     "end_time": "2023-09-27T13:37:04.424827Z",
     "start_time": "2023-09-27T13:37:04.411478Z"
    }
   },
   "id": "cb5385ac65373ca7"
  },
  {
   "cell_type": "code",
   "execution_count": 11,
   "outputs": [],
   "source": [
    "# Lister les noms des colonnes "
   ],
   "metadata": {
    "collapsed": false,
    "ExecuteTime": {
     "end_time": "2023-09-27T13:37:12.765437Z",
     "start_time": "2023-09-27T13:37:12.753149Z"
    }
   },
   "id": "67d0ac3cfdaac530"
  },
  {
   "cell_type": "code",
   "execution_count": 12,
   "outputs": [],
   "source": [
    "# Afficher les statistiques pour chaque donnée"
   ],
   "metadata": {
    "collapsed": false,
    "ExecuteTime": {
     "end_time": "2023-09-27T13:37:27.629510Z",
     "start_time": "2023-09-27T13:37:27.613651Z"
    }
   },
   "id": "5d5f3631995c2996"
  },
  {
   "cell_type": "code",
   "execution_count": 13,
   "outputs": [],
   "source": [
    "# Classer le dataframe par \"age\" et par \"pclass\" par ordre croissant"
   ],
   "metadata": {
    "collapsed": false,
    "ExecuteTime": {
     "end_time": "2023-09-27T13:37:34.918037Z",
     "start_time": "2023-09-27T13:37:34.901204Z"
    }
   },
   "id": "72e1f21c68e616a1"
  },
  {
   "cell_type": "code",
   "execution_count": 14,
   "outputs": [],
   "source": [
    "# Afficher l'histogramme des ages"
   ],
   "metadata": {
    "collapsed": false,
    "ExecuteTime": {
     "end_time": "2023-09-27T13:37:53.253580Z",
     "start_time": "2023-09-27T13:37:53.232347Z"
    }
   },
   "id": "3cd366175a0bc050"
  },
  {
   "cell_type": "code",
   "execution_count": 15,
   "outputs": [],
   "source": [
    "# Afficher la moyenne d'age par \"sex\""
   ],
   "metadata": {
    "collapsed": false,
    "ExecuteTime": {
     "end_time": "2023-09-27T13:39:42.951567Z",
     "start_time": "2023-09-27T13:39:42.932375Z"
    }
   },
   "id": "8e7298dbea46ee31"
  },
  {
   "cell_type": "code",
   "execution_count": 16,
   "outputs": [],
   "source": [
    "# La moyenne d'age par \"sex\" et par \"pclass\""
   ],
   "metadata": {
    "collapsed": false,
    "ExecuteTime": {
     "end_time": "2023-09-27T13:40:24.628424Z",
     "start_time": "2023-09-27T13:40:24.610654Z"
    }
   },
   "id": "31f56db210fdd0be"
  },
  {
   "cell_type": "code",
   "execution_count": 17,
   "outputs": [],
   "source": [
    "# Le nombre de passagers par \"pclass\""
   ],
   "metadata": {
    "collapsed": false,
    "ExecuteTime": {
     "end_time": "2023-09-27T13:41:16.581192Z",
     "start_time": "2023-09-27T13:41:16.563768Z"
    }
   },
   "id": "8208613a603b77f"
  },
  {
   "cell_type": "code",
   "execution_count": 18,
   "outputs": [],
   "source": [
    "# Lister le nombre de passagers par \"pclass\" qui ont moins de 18 ans"
   ],
   "metadata": {
    "collapsed": false,
    "ExecuteTime": {
     "end_time": "2023-09-27T13:43:35.426980Z",
     "start_time": "2023-09-27T13:43:35.396094Z"
    }
   },
   "id": "994234b387360c73"
  },
  {
   "cell_type": "code",
   "execution_count": 19,
   "outputs": [],
   "source": [
    "# Créer une colonne contenant les tranches d'age suivantes :\n",
    "# age <= 20 ans; 20 < age <= 30; 30 < age <= 40; +40 ans"
   ],
   "metadata": {
    "collapsed": false,
    "ExecuteTime": {
     "end_time": "2023-09-27T13:48:50.235624Z",
     "start_time": "2023-09-27T13:48:50.216881Z"
    }
   },
   "id": "a464f2c3042c71c4"
  },
  {
   "cell_type": "markdown",
   "source": [
    "### 2. Travailler avec les séries temporelles"
   ],
   "metadata": {
    "collapsed": false
   },
   "id": "48d3c26406583b31"
  },
  {
   "cell_type": "code",
   "execution_count": null,
   "outputs": [],
   "source": [
    "!pip install matplotlib"
   ],
   "metadata": {
    "collapsed": false
   },
   "id": "3f33f6c649ad335"
  },
  {
   "cell_type": "code",
   "execution_count": 28,
   "outputs": [],
   "source": [
    "import matplotlib.pyplot as plt"
   ],
   "metadata": {
    "collapsed": false,
    "ExecuteTime": {
     "end_time": "2023-09-27T14:03:46.006174Z",
     "start_time": "2023-09-27T14:03:44.856598Z"
    }
   },
   "id": "f540d97fdd14e5f"
  },
  {
   "cell_type": "code",
   "execution_count": 30,
   "outputs": [],
   "source": [
    "# Charger le fichier csv contenant l'évolution du bitcoin dans le temps dans un Dataframe"
   ],
   "metadata": {
    "collapsed": false,
    "ExecuteTime": {
     "end_time": "2023-09-27T14:08:20.996758Z",
     "start_time": "2023-09-27T14:08:20.972310Z"
    }
   },
   "id": "256002838b283bb5"
  },
  {
   "cell_type": "code",
   "execution_count": 31,
   "outputs": [],
   "source": [
    "# Afficher le graphique d'évolution de la valeur du bitcoin à la clôture, colonne \"Close\""
   ],
   "metadata": {
    "collapsed": false,
    "ExecuteTime": {
     "end_time": "2023-09-27T14:09:57.053485Z",
     "start_time": "2023-09-27T14:09:57.014328Z"
    }
   },
   "id": "4ff799bbea251409"
  },
  {
   "cell_type": "code",
   "execution_count": 47,
   "outputs": [],
   "source": [
    "# Afficher le graphique d'évolution de la valeur du bitcoin à la clôture, colonne \"Close\" entre 2020 et 2022"
   ],
   "metadata": {
    "collapsed": false,
    "ExecuteTime": {
     "end_time": "2023-09-27T14:50:09.795895Z",
     "start_time": "2023-09-27T14:50:09.792091Z"
    }
   },
   "id": "156ac147103fdd6d"
  },
  {
   "cell_type": "code",
   "execution_count": 92,
   "outputs": [],
   "source": [
    "# Calculer la moyenne de cloture tous les mois\n",
    "# Indication: Utiliser la fonction resample"
   ],
   "metadata": {
    "collapsed": false,
    "ExecuteTime": {
     "end_time": "2023-09-27T18:39:06.362998Z",
     "start_time": "2023-09-27T18:39:06.353805Z"
    }
   },
   "id": "7843cd3070fb3c6d"
  },
  {
   "cell_type": "code",
   "execution_count": 93,
   "outputs": [],
   "source": [
    "# Charger les données temporelles d'une autre crypto monnaie et merger les 2 dataframes\n",
    "# Les données sont téléchargeables ici :\n",
    "# Source https://fr.finance.yahoo.com/\n",
    "# Comparer l'évolution des 2 crypto monnaies à la clôture pour une même période.\n",
    "# Indication: Utiliser "
   ],
   "metadata": {
    "collapsed": false,
    "ExecuteTime": {
     "end_time": "2023-09-27T18:55:16.705840Z",
     "start_time": "2023-09-27T18:55:16.695094Z"
    }
   },
   "id": "20ed710aa52fb350"
  }
 ],
 "metadata": {
  "kernelspec": {
   "display_name": "Python 3",
   "language": "python",
   "name": "python3"
  },
  "language_info": {
   "codemirror_mode": {
    "name": "ipython",
    "version": 2
   },
   "file_extension": ".py",
   "mimetype": "text/x-python",
   "name": "python",
   "nbconvert_exporter": "python",
   "pygments_lexer": "ipython2",
   "version": "2.7.6"
  }
 },
 "nbformat": 4,
 "nbformat_minor": 5
}
