{
 "cells": [
  {
   "cell_type": "markdown",
   "source": [
    "<a href=\"https://colab.research.google.com/github/hdakhli/mlops-2023/blob/main/1_data_preparation.ipynb\" target=\"_parent\"><img src=\"https://colab.research.google.com/assets/colab-badge.svg\" alt=\"Open In Colab\"/></a>"
   ],
   "metadata": {
    "collapsed": false
   },
   "id": "a187184ad7ee0b6e"
  },
  {
   "cell_type": "markdown",
   "source": [
    "### 1. Charger le dataset : covid.csv dans un data frame pandas"
   ],
   "metadata": {
    "collapsed": false
   },
   "id": "5169e6113f3e787"
  },
  {
   "cell_type": "code",
   "execution_count": null,
   "id": "initial_id",
   "metadata": {
    "collapsed": true
   },
   "outputs": [],
   "source": [
    "!pip install pandas"
   ]
  },
  {
   "cell_type": "code",
   "execution_count": 2,
   "outputs": [],
   "source": [
    "# Essayer de comprendre les données en affichant un échantillon"
   ],
   "metadata": {
    "collapsed": false,
    "ExecuteTime": {
     "end_time": "2023-09-27T07:05:47.253847Z",
     "start_time": "2023-09-27T07:05:47.251440Z"
    }
   },
   "id": "ea4b7338381cfce2"
  },
  {
   "cell_type": "markdown",
   "source": [
    "#"
   ],
   "metadata": {
    "collapsed": false
   },
   "id": "26a2b9384dfa824f"
  },
  {
   "cell_type": "markdown",
   "source": [
    "### 2. Exploration des données\n",
    "Le but étant de prédire si un patient est potentiellement positif au Covid 19"
   ],
   "metadata": {
    "collapsed": false
   },
   "id": "3275a5b5bb1d2820"
  },
  {
   "cell_type": "code",
   "execution_count": null,
   "outputs": [],
   "source": [
    "# Faire une copie du dataframe original afin de garder une référence propre\n",
    "# Calculer pourcentage des valeurs manquantes dans chaque colonne\n",
    "# Créer 2 catégories de colonnes :\n",
    "    # blood_columns:\n",
    "        # (missing_rate < 0.9) & (missing_rate > 0.88)\n",
    "    # viral_columns\n",
    "        # (missing_rate < 0.80) & (missing_rate > 0.75)\n",
    "\n",
    "\n"
   ],
   "metadata": {
    "collapsed": false
   },
   "id": "37511858c5443d07"
  }
 ],
 "metadata": {
  "kernelspec": {
   "display_name": "Python 3",
   "language": "python",
   "name": "python3"
  },
  "language_info": {
   "codemirror_mode": {
    "name": "ipython",
    "version": 2
   },
   "file_extension": ".py",
   "mimetype": "text/x-python",
   "name": "python",
   "nbconvert_exporter": "python",
   "pygments_lexer": "ipython2",
   "version": "2.7.6"
  }
 },
 "nbformat": 4,
 "nbformat_minor": 5
}
