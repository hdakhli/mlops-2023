{
 "cells": [
  {
   "cell_type": "markdown",
   "source": [
    "<a href=\"https://colab.research.google.com/github/hdakhli/mlops-2023/blob/main/1_data_preparation.ipynb\" target=\"_parent\"><img src=\"https://colab.research.google.com/assets/colab-badge.svg\" alt=\"Open In Colab\"/></a>"
   ],
   "metadata": {
    "collapsed": false
   },
   "id": "a187184ad7ee0b6e"
  },
  {
   "cell_type": "markdown",
   "source": [
    "### Exploration des données\n",
    "Le but étant de prédire si un patient est potentiellement atteint du Covid 19"
   ],
   "metadata": {
    "collapsed": false
   },
   "id": "5169e6113f3e787"
  },
  {
   "cell_type": "code",
   "execution_count": null,
   "id": "initial_id",
   "metadata": {
    "collapsed": true
   },
   "outputs": [],
   "source": [
    "!pip install pandas\n",
    "!pip install matplotlib\n",
    "!pip install scikit-learn"
   ]
  },
  {
   "cell_type": "code",
   "execution_count": 67,
   "outputs": [],
   "source": [
    "import pandas as pd\n",
    "from matplotlib import pyplot as plt"
   ],
   "metadata": {
    "collapsed": false,
    "ExecuteTime": {
     "end_time": "2023-09-27T21:07:10.539886Z",
     "start_time": "2023-09-27T21:07:10.523499Z"
    }
   },
   "id": "8ed011e623e07b55"
  },
  {
   "cell_type": "code",
   "execution_count": null,
   "outputs": [],
   "source": [
    "# Charger les données covid 19 dans une dataframe"
   ],
   "metadata": {
    "collapsed": false
   },
   "id": "ea4b7338381cfce2"
  },
  {
   "cell_type": "markdown",
   "source": [],
   "metadata": {
    "collapsed": false
   },
   "id": "3275a5b5bb1d2820"
  },
  {
   "cell_type": "code",
   "execution_count": 90,
   "outputs": [],
   "source": [
    "# Faire une copie du dataframe original afin de garder une référence propre"
   ],
   "metadata": {
    "collapsed": false,
    "ExecuteTime": {
     "end_time": "2023-09-27T21:51:11.889516Z",
     "start_time": "2023-09-27T21:51:11.863770Z"
    }
   },
   "id": "37511858c5443d07"
  },
  {
   "cell_type": "code",
   "execution_count": null,
   "outputs": [],
   "source": [
    "# Analyser les données: afficher le nombre de lignes / colonne, identifier la colonne target, "
   ],
   "metadata": {
    "collapsed": false
   },
   "id": "f7eb4da868d070a0"
  },
  {
   "cell_type": "code",
   "execution_count": null,
   "outputs": [],
   "source": [
    "# Examiner la colonne target: calculer le nombre de cas positif et negatif"
   ],
   "metadata": {
    "collapsed": false
   },
   "id": "292dc064841e788f"
  },
  {
   "cell_type": "code",
   "execution_count": null,
   "outputs": [],
   "source": [
    "# Calculer pourcentage des valeurs manquantes dans chaque colonne: missing_rate = df.isna().sum() / nombre d'element dans la colonne"
   ],
   "metadata": {
    "collapsed": false
   },
   "id": "808a39f48ddfb013"
  },
  {
   "cell_type": "code",
   "execution_count": null,
   "outputs": [],
   "source": [
    "# L'analyse des données nous a permis d'identifier 2 types d'examen qui sont effectué: Analyse de sang et Tests viraux\n",
    "# Lister les colonnes de type, attention, je parle bien de list []:\n",
    "# blood_columns:\n",
    "    # (missing_rate < 0.9) & (missing_rate > 0.88)\n",
    "# viral_columns\n",
    "    # (missing_rate < 0.80) & (missing_rate > 0.75)"
   ],
   "metadata": {
    "collapsed": false
   },
   "id": "ceb7b46f216e906"
  },
  {
   "cell_type": "code",
   "execution_count": null,
   "outputs": [],
   "source": [
    "# Créer un dataframe finale contenant les colonnes : key_columns, blood_columns, viral_columns\n",
    "# Où : key_columns = ['Patient age quantile', 'SARS-Cov-2 exam result']"
   ],
   "metadata": {
    "collapsed": false
   },
   "id": "fe5bdefeaedf1f23"
  },
  {
   "cell_type": "markdown",
   "source": [
    "#\n",
    "### TrainTest - Nettoyage - Encodage"
   ],
   "metadata": {
    "collapsed": false
   },
   "id": "f902d523be63e49f"
  },
  {
   "cell_type": "code",
   "execution_count": 93,
   "outputs": [],
   "source": [
    "# Remplacer les valeurs suivantes par leurs équivalences numériques dans toutes les colonnes :\n",
    "# 'negative':0\n",
    "# 'positive':1\n",
    "# 'not_detected':0\n",
    "# 'detected':1\n",
    "# la list des colonnes contenant une valeur de type non numérique peut être obtenue par: df.select_dtypes('object').columns"
   ],
   "metadata": {
    "collapsed": false,
    "ExecuteTime": {
     "end_time": "2023-09-27T21:57:59.626041Z",
     "start_time": "2023-09-27T21:57:59.610276Z"
    }
   },
   "id": "162c0ab9346a240e"
  },
  {
   "cell_type": "code",
   "execution_count": 94,
   "outputs": [],
   "source": [
    "# Remplacer toutes les colonnes viral_columns par une seule \"est_malade\" avec la valeur 1 si au moins un virus est detecté et 0 sinon, vous pourrez faire la somme des valeurs d'une liste de colonnes par échantillon df['col1', 'col2'].sum(axis=1)"
   ],
   "metadata": {
    "collapsed": false,
    "ExecuteTime": {
     "end_time": "2023-09-27T22:00:14.725480Z",
     "start_time": "2023-09-27T22:00:14.702373Z"
    }
   },
   "id": "d7be5f89c89bbbf6"
  },
  {
   "cell_type": "code",
   "execution_count": 95,
   "outputs": [],
   "source": [
    "# Supprimer toutes les lignes ne contenant pas de valeur"
   ],
   "metadata": {
    "collapsed": false,
    "ExecuteTime": {
     "end_time": "2023-09-27T22:01:53.409367Z",
     "start_time": "2023-09-27T22:01:53.367803Z"
    }
   },
   "id": "dc5b5be3a00d11bb"
  },
  {
   "cell_type": "code",
   "execution_count": null,
   "outputs": [],
   "source": [
    "# Utiliser la fonction train_test_split de sikit learn pour créer un dataset d'entrainement (trainset) et un dataset de test (testset). La taille du testset doit de 20%"
   ],
   "metadata": {
    "collapsed": false
   },
   "id": "3499a3f8123e7dc1"
  },
  {
   "cell_type": "code",
   "execution_count": null,
   "outputs": [],
   "source": [
    "# Vérifier que le rapport des cas postifs et negatif est le même dans les 2 sets"
   ],
   "metadata": {
    "collapsed": false
   },
   "id": "374506f93340de5"
  },
  {
   "cell_type": "code",
   "execution_count": null,
   "outputs": [],
   "source": [
    "# Créer les dataframe X_train contenant uniquement les features et un autre y_train contenant uniquement le target à partir du trainset"
   ],
   "metadata": {
    "collapsed": false
   },
   "id": "9460a86a37445784"
  },
  {
   "cell_type": "code",
   "execution_count": null,
   "outputs": [],
   "source": [
    "# Créer les dataframe X_test contenant uniquement les features et un autre y_test contenant uniquement le target à partir du testset"
   ],
   "metadata": {
    "collapsed": false
   },
   "id": "e2b05702292b8ae1"
  },
  {
   "cell_type": "code",
   "execution_count": 1,
   "outputs": [],
   "source": [
    "# Utiliser l'estimateur RandomForestClassifier pour l'entrainement (model.fit(X_train, y_train))\n",
    "# Doc : https://scikit-learn.org/stable/modules/ensemble.html#random-forests-and-other-randomized-tree-ensembles\n",
    "# Evaluer le model avec les données de test:  ypred = model.predict(X_test)\n",
    "# Afficher la matrice de confusion et le rapport de classification (from sklearn.metrics import confusion_matrix, classification_report)"
   ],
   "metadata": {
    "collapsed": false,
    "ExecuteTime": {
     "end_time": "2023-09-28T14:08:54.271367Z",
     "start_time": "2023-09-28T14:08:54.245941Z"
    }
   },
   "id": "7a61ad0d2a4e0d9d"
  },
  {
   "cell_type": "code",
   "execution_count": null,
   "outputs": [],
   "source": [
    "# Quels sont les métriques qu'il faut surveiller? pourquoi ?"
   ],
   "metadata": {
    "collapsed": false
   },
   "id": "2e531601a37cb7a4"
  }
 ],
 "metadata": {
  "kernelspec": {
   "display_name": "Python 3",
   "language": "python",
   "name": "python3"
  },
  "language_info": {
   "codemirror_mode": {
    "name": "ipython",
    "version": 2
   },
   "file_extension": ".py",
   "mimetype": "text/x-python",
   "name": "python",
   "nbconvert_exporter": "python",
   "pygments_lexer": "ipython2",
   "version": "2.7.6"
  }
 },
 "nbformat": 4,
 "nbformat_minor": 5
}
